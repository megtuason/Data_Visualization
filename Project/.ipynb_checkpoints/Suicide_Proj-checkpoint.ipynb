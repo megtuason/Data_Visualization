{
 "cells": [
  {
   "cell_type": "code",
   "execution_count": 25,
   "metadata": {
    "scrolled": true
   },
   "outputs": [],
   "source": [
    "import matplotlib.pyplot as plt\n",
    "import numpy as np\n",
    "import pandas as pd\n",
    "import seaborn as sns\n",
    "from statistics import mean\n",
    "import matplotlib.patches as mpatches\n",
    "\n",
    "df = pd.read_csv(\"master.csv\")\n",
    "df.tail()\n",
    "%matplotlib inline"
   ]
  },
  {
   "cell_type": "markdown",
   "metadata": {},
   "source": [
    "## Observing the nature of missing data\n",
    "- HDI can be replaced with regression with GDP per capita, suicides, population\n",
    "- Observe the FSTAT muna\n",
    "- explore the use of forward fill, or mean replacement\n",
    "- 19,456 MISSING cells on HDI_for_year"
   ]
  },
  {
   "cell_type": "code",
   "execution_count": 2,
   "metadata": {
    "scrolled": true
   },
   "outputs": [
    {
     "name": "stdout",
     "output_type": "stream",
     "text": [
      "country               0\n",
      "year                  0\n",
      "sex                   0\n",
      "age                   0\n",
      "suicides_no           0\n",
      "population            0\n",
      "suicides/100k         0\n",
      "country-year          0\n",
      "HDI_for_year      19456\n",
      "gdp_for_year          0\n",
      "gdp_per_capita        0\n",
      "generation            0\n",
      "dtype: int64\n",
      "               year   suicides_no    population  suicides/100k  HDI_for_year  \\\n",
      "count  27820.000000  27820.000000  2.782000e+04   27820.000000   8364.000000   \n",
      "mean    2001.258375    242.574407  1.844794e+06      12.816097      0.776601   \n",
      "std        8.469055    902.047917  3.911779e+06      18.961511      0.093367   \n",
      "min     1985.000000      0.000000  2.780000e+02       0.000000      0.483000   \n",
      "25%     1995.000000      3.000000  9.749850e+04       0.920000      0.713000   \n",
      "50%     2002.000000     25.000000  4.301500e+05       5.990000      0.779000   \n",
      "75%     2008.000000    131.000000  1.486143e+06      16.620000      0.855000   \n",
      "max     2016.000000  22338.000000  4.380521e+07     224.970000      0.944000   \n",
      "\n",
      "       gdp_per_capita  \n",
      "count    27820.000000  \n",
      "mean     16866.464414  \n",
      "std      18887.576472  \n",
      "min        251.000000  \n",
      "25%       3447.000000  \n",
      "50%       9372.000000  \n",
      "75%      24874.000000  \n",
      "max     126352.000000  \n"
     ]
    }
   ],
   "source": [
    "print(df.isnull().sum())\n",
    "print(df.describe())"
   ]
  },
  {
   "cell_type": "markdown",
   "metadata": {},
   "source": [
    "# Adding the column total suicides and population per year for regression model"
   ]
  },
  {
   "cell_type": "code",
   "execution_count": 3,
   "metadata": {},
   "outputs": [],
   "source": [
    "df['population_sum'] = 0\n",
    "df['suicides_no_sum'] = 0"
   ]
  },
  {
   "cell_type": "code",
   "execution_count": 4,
   "metadata": {
    "scrolled": false
   },
   "outputs": [],
   "source": [
    "df1 = df.groupby(['country','year'])[['suicides_no','population']].sum().add_suffix('_sum')\n",
    "\n",
    "for i in range(0, len(df)):\n",
    "    c = df.iloc[i].country\n",
    "    y = df.iloc[i].year\n",
    "    t = df1.loc[c].loc[y]\n",
    "    df.iloc[i, df.columns.get_loc('population_sum')] = t.population_sum\n",
    "    df.iloc[i, df.columns.get_loc('suicides_no_sum')] = t.suicides_no_sum"
   ]
  },
  {
   "cell_type": "markdown",
   "metadata": {},
   "source": [
    "## Used a simple linear regression model to predict missing 'HDI_for_year'\n",
    "- Can get a rough estimate with respect to GDP, population, total suicides\n",
    "- Show stat info, including fstat\n",
    "- GDP PER CAPITA, SUICIDES, POPULATION = PREDICTED HDI"
   ]
  },
  {
   "cell_type": "code",
   "execution_count": 5,
   "metadata": {},
   "outputs": [
    {
     "name": "stdout",
     "output_type": "stream",
     "text": [
      "<class 'pandas.core.frame.DataFrame'>\n",
      "RangeIndex: 27820 entries, 0 to 27819\n",
      "Data columns (total 4 columns):\n",
      "gdp_per_capita     27820 non-null int64\n",
      "suicides_no_sum    27820 non-null int64\n",
      "population_sum     27820 non-null int64\n",
      "HDI_for_year       27820 non-null float64\n",
      "dtypes: float64(1), int64(3)\n",
      "memory usage: 869.5 KB\n"
     ]
    },
    {
     "name": "stderr",
     "output_type": "stream",
     "text": [
      "/anaconda3/lib/python3.6/site-packages/ipykernel_launcher.py:23: SettingWithCopyWarning: \n",
      "A value is trying to be set on a copy of a slice from a DataFrame\n",
      "\n",
      "See the caveats in the documentation: http://pandas.pydata.org/pandas-docs/stable/indexing.html#indexing-view-versus-copy\n",
      "/anaconda3/lib/python3.6/site-packages/pandas/core/generic.py:5984: SettingWithCopyWarning: \n",
      "A value is trying to be set on a copy of a slice from a DataFrame\n",
      "\n",
      "See the caveats in the documentation: http://pandas.pydata.org/pandas-docs/stable/indexing.html#indexing-view-versus-copy\n",
      "  self._update_inplace(new_data)\n",
      "/anaconda3/lib/python3.6/site-packages/IPython/core/interactiveshell.py:2910: SettingWithCopyWarning: \n",
      "A value is trying to be set on a copy of a slice from a DataFrame\n",
      "\n",
      "See the caveats in the documentation: http://pandas.pydata.org/pandas-docs/stable/indexing.html#indexing-view-versus-copy\n",
      "  exec(code_obj, self.user_global_ns, self.user_ns)\n"
     ]
    }
   ],
   "source": [
    "from sklearn.linear_model import LinearRegression\n",
    "linreg = LinearRegression()\n",
    "\n",
    "t = df[['gdp_per_capita','suicides_no_sum','population_sum','HDI_for_year']]\n",
    "\n",
    "#Split data set to with missing and without\n",
    "\n",
    "x_test = t[t['HDI_for_year'].isnull()].drop(columns='HDI_for_year')\n",
    "y_test = t[t['HDI_for_year'].isnull()]['HDI_for_year']\n",
    "x_train = t[t['HDI_for_year'].notnull()].drop(columns='HDI_for_year')\n",
    "y_train = t[t['HDI_for_year'].notnull()]['HDI_for_year']\n",
    "\n",
    "#train using linear regression\n",
    "\n",
    "linreg.fit(x_train, y_train)\n",
    "\n",
    "#predict the missing values which is x_test\n",
    "\n",
    "predicted = linreg.predict(x_test)\n",
    "\n",
    "#combine with target\n",
    "\n",
    "t.HDI_for_year[t.HDI_for_year.isnull()] = predicted\n",
    "t.info()\n",
    "\n",
    "#replace column with new data\n",
    "df['HDI_for_year'] = t['HDI_for_year']"
   ]
  },
  {
   "cell_type": "code",
   "execution_count": 6,
   "metadata": {},
   "outputs": [
    {
     "name": "stdout",
     "output_type": "stream",
     "text": [
      "country            0\n",
      "year               0\n",
      "sex                0\n",
      "age                0\n",
      "suicides_no        0\n",
      "population         0\n",
      "suicides/100k      0\n",
      "country-year       0\n",
      "HDI_for_year       0\n",
      "gdp_for_year       0\n",
      "gdp_per_capita     0\n",
      "generation         0\n",
      "population_sum     0\n",
      "suicides_no_sum    0\n",
      "dtype: int64\n",
      "               year   suicides_no    population  suicides/100k  HDI_for_year  \\\n",
      "count  27820.000000  27820.000000  2.782000e+04   27820.000000  27820.000000   \n",
      "mean    2001.258375    242.574407  1.844794e+06      12.816097      0.765544   \n",
      "std        8.469055    902.047917  3.911779e+06      18.961511      0.070550   \n",
      "min     1985.000000      0.000000  2.780000e+02       0.000000      0.483000   \n",
      "25%     1995.000000      3.000000  9.749850e+04       0.920000      0.719006   \n",
      "50%     2002.000000     25.000000  4.301500e+05       5.990000      0.746000   \n",
      "75%     2008.000000    131.000000  1.486143e+06      16.620000      0.807000   \n",
      "max     2016.000000  22338.000000  4.380521e+07     224.970000      1.083383   \n",
      "\n",
      "       gdp_per_capita  population_sum  suicides_no_sum  \n",
      "count    27820.000000    2.782000e+04     27820.000000  \n",
      "mean     16866.464414    2.212803e+07      2909.771172  \n",
      "std      18887.576472    4.168630e+07      7080.103871  \n",
      "min        251.000000    2.519200e+04         0.000000  \n",
      "25%       3447.000000    1.996086e+06       118.000000  \n",
      "50%       9372.000000    5.360200e+06       565.000000  \n",
      "75%      24874.000000    2.061077e+07      2249.000000  \n",
      "max     126352.000000    3.000785e+08     61420.000000  \n"
     ]
    }
   ],
   "source": [
    "print(df.isnull().sum())\n",
    "print(df.describe())"
   ]
  },
  {
   "cell_type": "markdown",
   "metadata": {},
   "source": [
    "## Research Question 1:\n",
    "Are there any apparent patterns when it comes to the suicide rates throughout the different generations (Generation X, G.I. Generation, Boomers, etc.) across different countries?  "
   ]
  },
  {
   "cell_type": "code",
   "execution_count": 30,
   "metadata": {},
   "outputs": [],
   "source": [
    "df2 = df[df[\"country\"] == \"United States\"]"
   ]
  },
  {
   "cell_type": "code",
   "execution_count": 31,
   "metadata": {},
   "outputs": [],
   "source": [
    "#top 10 http://statisticstimes.com/economy/world-gdp-ranking.php\n",
    "#China should be 2nd, India should 9th, Russia should be 10th\n",
    "top = [\"United States\", \"Japan\", \"Germany\", \"United Kingdom\", \"France\", \"Brazil\", \"Italy\", \"Canada\", \"Australia\"]\n",
    "for i in top:\n",
    "    if i == \"United States\":\n",
    "        continue\n",
    "    else:  \n",
    "        hi = df[df[\"country\"] == i]\n",
    "        df2 = pd.concat([df2, hi])"
   ]
  },
  {
   "cell_type": "code",
   "execution_count": 39,
   "metadata": {},
   "outputs": [],
   "source": [
    "df3 = df[df[\"country\"] == \"Palau\"]"
   ]
  },
  {
   "cell_type": "code",
   "execution_count": 50,
   "metadata": {},
   "outputs": [],
   "source": [
    "#bottom 10 http://statisticstimes.com/economy/world-gdp-ranking.php\n",
    "#Palau should be 1st, Equatorial Guinea should be 6th, Slovak Republic should be 7th\n",
    "bottom = [\"Barbados\", \"Latvia\", \"Uruguay\", \"Lithuania\",\"Oman\", \"Czech Republic\", \"Estonia\",\"Trinidad and Tobago\", \"Greece\", \"Portugal\"]\n",
    "for i in bottom:\n",
    "    if i == \"Palau\":\n",
    "        continue\n",
    "    else:  \n",
    "        hi = df[df[\"country\"] == i]\n",
    "        df3 = pd.concat([df3, hi])"
   ]
  },
  {
   "cell_type": "code",
   "execution_count": 51,
   "metadata": {},
   "outputs": [
    {
     "data": {
      "text/plain": [
       "array(['Barbados', 'Latvia', 'Uruguay', 'Lithuania', 'Oman',\n",
       "       'Czech Republic', 'Estonia', 'Trinidad and Tobago', 'Greece',\n",
       "       'Portugal'], dtype=object)"
      ]
     },
     "execution_count": 51,
     "metadata": {},
     "output_type": "execute_result"
    }
   ],
   "source": [
    "df3.country.unique()"
   ]
  },
  {
   "cell_type": "code",
   "execution_count": 32,
   "metadata": {},
   "outputs": [
    {
     "data": {
      "image/png": "[encoded data removed]",
      "text/plain": [
       "<matplotlib.figure.Figure at 0x1a15d51320>"
      ]
     },
     "metadata": {},
     "output_type": "display_data"
    }
   ],
   "source": [
    "sns.barplot(x = 'country', y = 'suicides/100k', data = df2, hue = 'generation', palette = 'winter_r')\n",
    "sns.set(rc={'figure.figsize':(15,9)})"
   ]
  },
  {
   "cell_type": "code",
   "execution_count": 55,
   "metadata": {},
   "outputs": [
    {
     "data": {
      "image/png": "[encoded data removed]",
      "text/plain": [
       "<matplotlib.figure.Figure at 0x1a157c4320>"
      ]
     },
     "metadata": {},
     "output_type": "display_data"
    }
   ],
   "source": [
    "sns.barplot(x = 'country', y = 'suicides/100k', data = df3, hue = 'generation', palette = 'autumn')\n",
    "sns.set(rc={'figure.figsize':(15,9)})"
   ]
  },
  {
   "cell_type": "code",
   "execution_count": null,
   "metadata": {},
   "outputs": [],
   "source": []
  }
 ],
 "metadata": {
  "kernelspec": {
   "display_name": "Python 3",
   "language": "python",
   "name": "python3"
  },
  "language_info": {
   "codemirror_mode": {
    "name": "ipython",
    "version": 3
   },
   "file_extension": ".py",
   "mimetype": "text/x-python",
   "name": "python",
   "nbconvert_exporter": "python",
   "pygments_lexer": "ipython3",
   "version": "3.6.4"
  }
 },
 "nbformat": 4,
 "nbformat_minor": 2
}
