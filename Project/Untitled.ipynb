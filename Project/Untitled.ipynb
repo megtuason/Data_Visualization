{
 "cells": [
  {
   "cell_type": "code",
   "execution_count": 41,
   "metadata": {},
   "outputs": [],
   "source": [
    "import matplotlib.pyplot as plt\n",
    "import numpy as np\n",
    "import pandas as pd\n",
    "import seaborn as sns\n",
    "df = pd.read_csv(\"main.csv\")"
   ]
  },
  {
   "cell_type": "code",
   "execution_count": 64,
   "metadata": {},
   "outputs": [
    {
     "data": {
      "text/plain": [
       "array(['Albania', 'Antigua and Barbuda', 'Argentina', 'Armenia', 'Aruba',\n",
       "       'Australia', 'Austria', 'Azerbaijan', 'Bahamas', 'Bahrain',\n",
       "       'Barbados', 'Belarus', 'Belgium', 'Belize',\n",
       "       'Bosnia and Herzegovina', 'Brazil', 'Bulgaria', 'Cabo Verde',\n",
       "       'Canada', 'Chile', 'Colombia', 'Costa Rica', 'Croatia', 'Cuba',\n",
       "       'Cyprus', 'Czech Republic', 'Denmark', 'Dominica', 'Ecuador',\n",
       "       'El Salvador', 'Estonia', 'Fiji', 'Finland', 'France', 'Georgia',\n",
       "       'Germany', 'Greece', 'Grenada', 'Guatemala', 'Guyana', 'Hungary',\n",
       "       'Iceland', 'Ireland', 'Israel', 'Italy', 'Jamaica', 'Japan',\n",
       "       'Kazakhstan', 'Kiribati', 'Kuwait', 'Kyrgyzstan', 'Latvia',\n",
       "       'Lithuania', 'Luxembourg', 'Macau', 'Maldives', 'Malta',\n",
       "       'Mauritius', 'Mexico', 'Mongolia', 'Montenegro', 'Netherlands',\n",
       "       'New Zealand', 'Nicaragua', 'Norway', 'Oman', 'Panama', 'Paraguay',\n",
       "       'Philippines', 'Poland', 'Portugal', 'Puerto Rico', 'Qatar',\n",
       "       'Republic of Korea', 'Romania', 'Russian Federation',\n",
       "       'Saint Kitts and Nevis', 'Saint Lucia',\n",
       "       'Saint Vincent and Grenadines', 'San Marino', 'Serbia',\n",
       "       'Seychelles', 'Singapore', 'Slovakia', 'Slovenia', 'South Africa',\n",
       "       'Spain', 'Sri Lanka', 'Suriname', 'Sweden', 'Switzerland',\n",
       "       'Thailand', 'Trinidad and Tobago', 'Turkey', 'Turkmenistan',\n",
       "       'Ukraine', 'United Arab Emirates', 'United Kingdom',\n",
       "       'United States', 'Uruguay', 'Uzbekistan'], dtype=object)"
      ]
     },
     "execution_count": 64,
     "metadata": {},
     "output_type": "execute_result"
    }
   ],
   "source": [
    "df.country.unique()"
   ]
  },
  {
   "cell_type": "code",
   "execution_count": 42,
   "metadata": {},
   "outputs": [],
   "source": [
    "asia = ['Afghanistan','Bahrain','Bangladesh','Bhutan','Brunei','Burma','Myanmar','Cambodia','China','East Timor','India','Indonesia','Iran','Iraq','Israel','Japan','Jordan','Kazakhstan','North Korea','South Korea','Kuwait','Kyrgyzstan','Laos','Lebanon','Malaysia','Maldives','Mongolia','Nepal','Oman','Pakistan','Philippines','Qatar','Russian Federation','Saudi Arabia','Singapore','Sri Lanka','Syria','Tajikistan','Thailand','Turkey','Turkmenistan','United Arab Emirates','Uzbekistan','Vietnam','Yemen']\n",
    "europe = ['Albania','Andorra','Armenia','Austria','Azerbaijan','Belarus','Belgium','Bosnia and Herzegovina','Bulgaria','Croatia','Cyprus','Czech Republic','Denmark','Estonia','Finland','France','Georgia','Germany','Greece','Hungary','Iceland','Ireland','Italy','Latvia','Liechtenstein','Lithuania','Luxembourg','Macedonia','Malta','Moldova','Monaco','Montenegro','Netherlands','Norway','Poland','Portugal','Romania','San Marino','Serbia','Slovakia','Slovenia','Spain','Sweden','Switzerland','Ukraine','United Kingdom','Vatican City']\n",
    "Samerica = ['Argentina','Bolivia','Brazil' ,'Chile','Colombia','Ecuador','Guyana','Paraguay','Peru','Suriname','Uruguay','Venezuela']\n",
    "Namerica = ['Antigua and Barbuda','Bahamas','Barbados','Belize','Canada','Costa Rica','Cuba','Dominica','Dominican Republic','El Salvador','Grenada','Guatemala','Haiti','Honduras','Jamaica','Mexico','Nicaragua','Panama','Saint Kitts and Nevis','Saint Lucia','Saint Vincent and the Grenadines','Trinidad and Tobago','United States']\n",
    "oceania = ['Australia','Fiji ','Kiribati','Marshall Islands','Micronesia ','Nauru','New Zealand','Palau ','Papua New Guinea','Samoa','Solomon Islands','Tonga','Tuvalu','Vanuatu']\n",
    "africa = ['Algeria','Angola','Benin','Botswana','Burkina','Burundi','Cameroon','Cape Verde','Central African Republic','Chad','Comoros','Congo','Democratic Republic of Congo','Djibouti','Egypt','Equatorial Guinea','Eritrea','Ethiopia','Gabon','Gambia','Ghana','Guinea','Guinea-Bissau','Ivory Coast','Kenya','Lesotho','Liberia','Libya','Madagascar','Malawi','Mali','Mauritania','Mauritius','Morocco','Mozambique','Namibia','Niger','Nigeria','Rwanda','Sao Tome and Principe','Senegal','Seychelles','Sierra Leone','Somalia','South Africa','South Sudan','Sudan','Swaziland','Tanzania','Togo','Tunisia','Uganda','Zambia','Zimbabwe']"
   ]
  },
  {
   "cell_type": "code",
   "execution_count": 43,
   "metadata": {},
   "outputs": [],
   "source": [
    "europec = df[df[\"country\"] == \"Albania\"]\n",
    "nac = df[df[\"country\"] == \"Antigua and Barbuda\"]\n",
    "sac = df[df[\"country\"] == \"Argentina\"]\n",
    "oceaniac = df[df[\"country\"] == \"Australia\"]\n",
    "asiac = df[df[\"country\"] == \"Oman\"]\n",
    "africac = df[df[\"country\"] == \"Mauritius\"]"
   ]
  },
  {
   "cell_type": "code",
   "execution_count": 44,
   "metadata": {},
   "outputs": [
    {
     "name": "stdout",
     "output_type": "stream",
     "text": [
      "Aruba\n",
      "Cabo Verde\n",
      "Fiji\n",
      "Macau\n",
      "Puerto Rico\n",
      "Republic of Korea\n",
      "Saint Vincent and Grenadines\n"
     ]
    }
   ],
   "source": [
    "for i in country:\n",
    "    if i in africa:\n",
    "        if i == \"Mauritius\":\n",
    "            continue\n",
    "        else:\n",
    "            hi = df[df[\"country\"] == i]\n",
    "            africac = pd.concat([africac, hi])\n",
    "    elif i in asia:\n",
    "        if i == \"Oman\":\n",
    "            continue\n",
    "        else:\n",
    "            hi = df[df[\"country\"] == i]\n",
    "            asiac = pd.concat([asiac, hi])\n",
    "    elif i in europe:\n",
    "        if i == \"Albania\":\n",
    "            continue\n",
    "        else:\n",
    "            hi = df[df[\"country\"] == i]\n",
    "            europec = pd.concat([europec, hi])\n",
    "    elif i in Samerica:\n",
    "        if i == \"Argentina\":\n",
    "            continue\n",
    "        else:\n",
    "            hi = df[df[\"country\"] == i]\n",
    "            sac = pd.concat([sac, hi])\n",
    "    elif i in Namerica:\n",
    "        if i == \"Antigua and Barbuda\":\n",
    "            continue\n",
    "        else:\n",
    "            hi = df[df[\"country\"] == i]\n",
    "            nac = pd.concat([nac, hi])\n",
    "    elif i in oceania: \n",
    "        if i == \"Australia\":\n",
    "            continue\n",
    "        else:\n",
    "            hi = df[df[\"country\"] == i]\n",
    "            oceaniac = pd.concat([oceaniac, hi])\n",
    "    else:\n",
    "        print(i)"
   ]
  },
  {
   "cell_type": "code",
   "execution_count": 45,
   "metadata": {},
   "outputs": [],
   "source": [
    "hi = df[df[\"country\"] == \"Aruba\"]\n",
    "sac = pd.concat([sac, hi])"
   ]
  },
  {
   "cell_type": "code",
   "execution_count": 46,
   "metadata": {},
   "outputs": [],
   "source": [
    "hi = df[df[\"country\"] == 'Cabo Verde']\n",
    "africac = pd.concat([africac, hi])"
   ]
  },
  {
   "cell_type": "code",
   "execution_count": 47,
   "metadata": {},
   "outputs": [],
   "source": [
    "hi = df[df[\"country\"] == \"Fiji\"]\n",
    "oceaniac = pd.concat([oceaniac, hi])"
   ]
  },
  {
   "cell_type": "code",
   "execution_count": 48,
   "metadata": {},
   "outputs": [],
   "source": [
    "hi = df[df[\"country\"] == \"Macau\"]\n",
    "asiac = pd.concat([asiac, hi])"
   ]
  },
  {
   "cell_type": "code",
   "execution_count": 49,
   "metadata": {},
   "outputs": [],
   "source": [
    "hi = df[df[\"country\"] == 'Puerto Rico']\n",
    "nac = pd.concat([nac, hi])"
   ]
  },
  {
   "cell_type": "code",
   "execution_count": 50,
   "metadata": {},
   "outputs": [],
   "source": [
    "hi = df[df[\"country\"] == 'Republic of Korea']\n",
    "asiac = pd.concat([asiac, hi])"
   ]
  },
  {
   "cell_type": "code",
   "execution_count": 51,
   "metadata": {},
   "outputs": [],
   "source": [
    "hi = df[df[\"country\"] == 'Saint Vincent and Grenadines']\n",
    "nac = pd.concat([nac, hi])"
   ]
  },
  {
   "cell_type": "code",
   "execution_count": 52,
   "metadata": {},
   "outputs": [],
   "source": [
    "africac.to_csv('africa.csv')\n",
    "nac.to_csv('northamerica.csv')\n",
    "sac.to_csv('southamerica.csv')\n",
    "asiac.to_csv('asia.csv')\n",
    "europec.to_csv('europe.csv')\n",
    "oceaniac.to_csv('oceania.csv')"
   ]
  },
  {
   "cell_type": "code",
   "execution_count": 72,
   "metadata": {},
   "outputs": [],
   "source": [
    "df2 = df[df[\"country\"] == \"Luxembourg\"]"
   ]
  },
  {
   "cell_type": "code",
   "execution_count": 73,
   "metadata": {},
   "outputs": [],
   "source": [
    "top = [\"Luxembourg\", \"Norway\", \"Switzerland\",\"Iceland\", \"Sweden\", \"United States\", \"Singapore\", \"Netherlands\", \"Japan\", \"Austria\", \"Denmark\", \"Finland\", \"Ireland\", \"Qatar\", \"Belgium\", \"United Kingdom\", \"Australia\", \"France\", \"Germany\", \"Canada\"] \n",
    "for i in top:\n",
    "    if i == \"Luxembourg\":\n",
    "        continue\n",
    "    else:  \n",
    "        hi = df[df[\"country\"] == i]\n",
    "        df2 = pd.concat([df2, hi])"
   ]
  },
  {
   "cell_type": "code",
   "execution_count": 74,
   "metadata": {},
   "outputs": [],
   "source": [
    "df2.to_csv('top.csv')"
   ]
  },
  {
   "cell_type": "code",
   "execution_count": null,
   "metadata": {},
   "outputs": [],
   "source": []
  }
 ],
 "metadata": {
  "kernelspec": {
   "display_name": "Python 3",
   "language": "python",
   "name": "python3"
  },
  "language_info": {
   "codemirror_mode": {
    "name": "ipython",
    "version": 3
   },
   "file_extension": ".py",
   "mimetype": "text/x-python",
   "name": "python",
   "nbconvert_exporter": "python",
   "pygments_lexer": "ipython3",
   "version": "3.6.4"
  }
 },
 "nbformat": 4,
 "nbformat_minor": 2
}
