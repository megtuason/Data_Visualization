{
 "cells": [
  {
   "cell_type": "markdown",
   "metadata": {},
   "source": [
    "Margaret Camille L. Tuason"
   ]
  },
  {
   "cell_type": "markdown",
   "metadata": {},
   "source": [
    "Lab 8"
   ]
  },
  {
   "cell_type": "code",
   "execution_count": 304,
   "metadata": {},
   "outputs": [],
   "source": [
    "import pandas as pd\n",
    "import matplotlib.pyplot as plt\n",
    "import numpy as np\n",
    "import bs4 \n",
    "from urllib.request import urlopen as UReq\n",
    "from bs4 import BeautifulSoup as soup"
   ]
  },
  {
   "cell_type": "code",
   "execution_count": 305,
   "metadata": {},
   "outputs": [],
   "source": [
    "my_url = \"https://m.imdb.com/chart/bestpicture/\""
   ]
  },
  {
   "cell_type": "code",
   "execution_count": 306,
   "metadata": {},
   "outputs": [],
   "source": [
    "uClient = UReq(my_url)"
   ]
  },
  {
   "cell_type": "code",
   "execution_count": 307,
   "metadata": {},
   "outputs": [],
   "source": [
    "page_html = uClient.read()"
   ]
  },
  {
   "cell_type": "code",
   "execution_count": 308,
   "metadata": {},
   "outputs": [],
   "source": [
    "uClient.close()"
   ]
  },
  {
   "cell_type": "code",
   "execution_count": 309,
   "metadata": {
    "scrolled": false
   },
   "outputs": [],
   "source": [
    "pagesoup = soup(page_html, \"html.parser\")"
   ]
  },
  {
   "cell_type": "code",
   "execution_count": 310,
   "metadata": {},
   "outputs": [
    {
     "name": "stdout",
     "output_type": "stream",
     "text": [
      "<span class=\"media-body media-vertical-align best-picture\">\n",
      "<h4 class=\"best-picture-item-title\"> Green Book\n",
      "<span class=\"unbold\">(2018)</span>\n",
      "</h4>\n",
      "<p class=\"h5 unbold titlemeter\">\n",
      "2018 winner\n",
      "</p>\n",
      "<p class=\"h4 unbold\">\n",
      "<span class=\"mobile-sprite tiny-star\"></span> <span class=\"imdb-rating spacing-right-small\">8.3</span>\n",
      "</p>\n",
      "<p class=\"h5 unbold\">Viggo Mortensen, Mahershala Ali, Linda Cardellini, Sebastian Maniscalco</p>\n",
      "</span>\n"
     ]
    },
    {
     "data": {
      "text/plain": [
       "'\\n The Hurt Locker\\n(2008)\\n\\n\\n2009 winner\\n\\n\\n 7.6\\n\\nJeremy Renner, Anthony Mackie, Brian Geraghty, Guy Pearce\\n'"
      ]
     },
     "execution_count": 310,
     "metadata": {},
     "output_type": "execute_result"
    }
   ],
   "source": [
    "shot = pagesoup.find_all(\"span\", attrs={\"class\":\"media-body media-vertical-align best-picture\"})\n",
    "print(shot[0])\n",
    "shot[9].text"
   ]
  },
  {
   "cell_type": "code",
   "execution_count": 311,
   "metadata": {},
   "outputs": [
    {
     "data": {
      "text/plain": [
       "' Green Book\\n(2018)\\n'"
      ]
     },
     "execution_count": 311,
     "metadata": {},
     "output_type": "execute_result"
    }
   ],
   "source": [
    "containers = pagesoup.find_all(\"h4\", attrs={\"class\" : \"best-picture-item-title\"})\n",
    "containers[0].text"
   ]
  },
  {
   "cell_type": "code",
   "execution_count": 312,
   "metadata": {
    "scrolled": true
   },
   "outputs": [
    {
     "name": "stdout",
     "output_type": "stream",
     "text": [
      "[' Green Book', '(2018)', '2018 winner', ' 8.3', '', 'Viggo Mortensen, Mahershala Ali, Linda Cardellini, Sebastian Maniscalco', '']\n",
      "[' The Shape of Water', '(2017)', '2017 winner', ' 7.3', '', 'Sally Hawkins, Octavia Spencer, Michael Shannon, Doug Jones', '']\n",
      "[' Moonlight', '(2016)', '2016 winner', ' 7.4', '', 'Mahershala Ali, Naomie Harris, Trevante Rhodes, Alex R. Hibbert', '']\n",
      "[' Spotlight', '(2015)', '2015 winner', ' 8.1', '', 'Mark Ruffalo, Michael Keaton, Rachel McAdams, Liev Schreiber', '']\n",
      "[' Birdman or (The Unexpected Virtue of Ignorance)', '(2014)', '2014 winner', ' 7.7', '', 'Michael Keaton, Zach Galifianakis, Edward Norton, Andrea Riseborough', '']\n",
      "[' 12 Years a Slave', '(2013)', '2013 winner', ' 8.1', '', 'Chiwetel Ejiofor, Michael Kenneth Williams, Michael Fassbender, Brad Pitt', '']\n",
      "[' Argo', '(2012)', '2012 winner', ' 7.7', '', 'Ben Affleck, Bryan Cranston, John Goodman, Alan Arkin', '']\n",
      "[' The Artist', '(2011)', '2011 winner', ' 7.9', '', 'Jean Dujardin, Bérénice Bejo, John Goodman, James Cromwell', '']\n",
      "[\" The King's Speech\", '(2010)', '2010 winner', ' 8.0', '', 'Colin Firth, Geoffrey Rush, Helena Bonham Carter, Derek Jacobi', '']\n",
      "[' The Hurt Locker', '(2008)', '2009 winner', ' 7.6', '', 'Jeremy Renner, Anthony Mackie, Brian Geraghty, Guy Pearce', '']\n",
      "[' Slumdog Millionaire', '(2008)', '2008 winner', ' 8.0', '', 'Dev Patel, Freida Pinto, Saurabh Shukla, Anil Kapoor', '']\n",
      "[' No Country for Old Men', '(2007)', '2007 winner', ' 8.1', '', 'Tommy Lee Jones, Javier Bardem, Josh Brolin, Woody Harrelson', '']\n",
      "[' The Departed', '(2006)', '2006 winner', ' 8.5', '', 'Leonardo DiCaprio, Matt Damon, Jack Nicholson, Mark Wahlberg', '']\n",
      "[' Crash', '(2004)', '2005 winner', ' 7.8', '', 'Don Cheadle, Sandra Bullock, Thandie Newton, Karina Arroyave', '']\n",
      "[' Million Dollar Baby', '(2004)', '2004 winner', ' 8.1', '', 'Hilary Swank, Clint Eastwood, Morgan Freeman, Jay Baruchel', '']\n",
      "[' The Lord of the Rings: The Return of the King', '(2003)', '2003 winner', ' 8.9', '', 'Elijah Wood, Viggo Mortensen, Ian McKellen, Orlando Bloom', '']\n",
      "[' Chicago', '(2002)', '2002 winner', ' 7.2', '', 'Renée Zellweger, Catherine Zeta-Jones, Richard Gere, Taye Diggs', '']\n",
      "[' A Beautiful Mind', '(2001)', '2001 winner', ' 8.2', '', 'Russell Crowe, Ed Harris, Jennifer Connelly, Christopher Plummer', '']\n",
      "[' Gladiator', '(2000)', '2000 winner', ' 8.5', '', 'Russell Crowe, Joaquin Phoenix, Connie Nielsen, Oliver Reed', '']\n",
      "[' American Beauty', '(1999)', '1999 winner', ' 8.4', '', 'Kevin Spacey, Annette Bening, Thora Birch, Wes Bentley', '']\n",
      "[' Shakespeare in Love', '(1998)', '1998 winner', ' 7.1', '', 'Gwyneth Paltrow, Joseph Fiennes, Geoffrey Rush, Tom Wilkinson', '']\n",
      "[' Titanic', '(1997)', '1997 winner', ' 7.8', '', 'Leonardo DiCaprio, Kate Winslet, Billy Zane, Kathy Bates', '']\n",
      "[' The English Patient', '(1996)', '1996 winner', ' 7.4', '', 'Ralph Fiennes, Juliette Binoche, Willem Dafoe, Kristin Scott Thomas', '']\n",
      "[' Braveheart', '(1995)', '1995 winner', ' 8.4', '', 'Mel Gibson, Sophie Marceau, Patrick McGoohan, Angus Macfadyen', '']\n",
      "[' Forrest Gump', '(1994)', '1994 winner', ' 8.8', '', 'Tom Hanks, Robin Wright, Gary Sinise, Sally Field', '']\n",
      "[\" Schindler's List\", '(1993)', '1993 winner', ' 8.9', '', 'Liam Neeson, Ralph Fiennes, Ben Kingsley, Caroline Goodall', '']\n",
      "[' Unforgiven', '(1992)', '1992 winner', ' 8.2', '', 'Clint Eastwood, Gene Hackman, Morgan Freeman, Richard Harris', '']\n",
      "[' The Silence of the Lambs', '(1991)', '1991 winner', ' 8.6', '', 'Jodie Foster, Anthony Hopkins, Lawrence A. Bonney, Kasi Lemmons', '']\n",
      "[' Dances with Wolves', '(1990)', '1990 winner', ' 8.0', '', 'Kevin Costner, Mary McDonnell, Graham Greene, Rodney A. Grant', '']\n",
      "[' Driving Miss Daisy', '(1989)', '1989 winner', ' 7.4', '', 'Morgan Freeman, Jessica Tandy, Dan Aykroyd, Patti LuPone', '']\n",
      "[' Rain Man', '(1988)', '1988 winner', ' 8.0', '', 'Dustin Hoffman, Tom Cruise, Valeria Golino, Gerald R. Molen', '']\n",
      "[' The Last Emperor', '(1987)', '1987 winner', ' 7.8', '', \"John Lone, Joan Chen, Peter O'Toole, Ruocheng Ying\", '']\n",
      "[' Platoon', '(1986)', '1986 winner', ' 8.1', '', 'Charlie Sheen, Tom Berenger, Willem Dafoe, Keith David', '']\n",
      "[' Out of Africa', '(1985)', '1985 winner', ' 7.2', '', 'Meryl Streep, Robert Redford, Klaus Maria Brandauer, Michael Kitchen', '']\n",
      "[' Amadeus', '(1984)', '1984 winner', ' 8.3', '', 'F. Murray Abraham, Tom Hulce, Elizabeth Berridge, Roy Dotrice', '']\n",
      "[' Terms of Endearment', '(1983)', '1983 winner', ' 7.4', '', 'Shirley MacLaine, Debra Winger, Jack Nicholson, Danny DeVito', '']\n",
      "[' Gandhi', '(1982)', '1982 winner', ' 8.1', '', 'Ben Kingsley, John Gielgud, Rohini Hattangadi, Roshan Seth', '']\n",
      "[' Chariots of Fire', '(1981)', '1981 winner', ' 7.2', '', 'Ben Cross, Ian Charleson, Nicholas Farrell, Nigel Havers', '']\n",
      "[' Ordinary People', '(1980)', '1980 winner', ' 7.8', '', 'Donald Sutherland, Mary Tyler Moore, Judd Hirsch, Timothy Hutton', '']\n",
      "[' Kramer vs. Kramer', '(1979)', '1979 winner', ' 7.8', '', 'Dustin Hoffman, Meryl Streep, Jane Alexander, Justin Henry', '']\n",
      "[' The Deer Hunter', '(1978)', '1978 winner', ' 8.1', '', 'Robert De Niro, Christopher Walken, John Cazale, John Savage', '']\n",
      "[' Annie Hall', '(1977)', '1977 winner', ' 8.0', '', 'Woody Allen, Diane Keaton, Tony Roberts, Carol Kane', '']\n",
      "[' Rocky', '(1976)', '1976 winner', ' 8.1', '', 'Sylvester Stallone, Talia Shire, Burt Young, Carl Weathers', '']\n",
      "[\" One Flew Over the Cuckoo's Nest\", '(1975)', '1975 winner', ' 8.7', '', 'Jack Nicholson, Louise Fletcher, Will Sampson, Michael Berryman', '']\n",
      "[' The Godfather: Part II', '(1974)', '1974 winner', ' 9.0', '', 'Al Pacino, Robert De Niro, Robert Duvall, Diane Keaton', '']\n",
      "[' The Sting', '(1973)', '1973 winner', ' 8.3', '', 'Paul Newman, Robert Redford, Robert Shaw, Charles Durning', '']\n",
      "[' The Godfather', '(1972)', '1972 winner', ' 9.2', '', 'Marlon Brando, Al Pacino, James Caan, Diane Keaton', '']\n",
      "[' The French Connection', '(1971)', '1971 winner', ' 7.8', '', 'Gene Hackman, Roy Scheider, Fernando Rey, Tony Lo Bianco', '']\n",
      "[' Patton', '(1970)', '1970 winner', ' 8.0', '', 'George C. Scott, Karl Malden, Stephen Young, Michael Strong', '']\n",
      "[' Midnight Cowboy', '(1969)', '1969 winner', ' 7.9', '', 'Dustin Hoffman, Jon Voight, Sylvia Miles, John McGiver', '']\n",
      "[' Oliver!', '(1968)', '1968 winner', ' 7.5', '', 'Mark Lester, Ron Moody, Shani Wallis, Oliver Reed', '']\n",
      "[' In the Heat of the Night', '(1967)', '1967 winner', ' 8.0', '', 'Sidney Poitier, Rod Steiger, Warren Oates, Lee Grant', '']\n",
      "[' A Man for All Seasons', '(1966)', '1966 winner', ' 7.8', '', 'Paul Scofield, Wendy Hiller, Robert Shaw, Leo McKern', '']\n",
      "[' The Sound of Music', '(1965)', '1965 winner', ' 8.0', '', 'Julie Andrews, Christopher Plummer, Eleanor Parker, Richard Haydn', '']\n",
      "[' My Fair Lady', '(1964)', '1964 winner', ' 7.9', '', 'Audrey Hepburn, Rex Harrison, Stanley Holloway, Wilfrid Hyde-White', '']\n",
      "[' Tom Jones', '(1963)', '1963 winner', ' 6.6', '', 'Albert Finney, Susannah York, George Devine, Rachel Kempson', '']\n",
      "[' Lawrence of Arabia', '(1962)', '1962 winner', ' 8.3', '', \"Peter O'Toole, Alec Guinness, Anthony Quinn, Jack Hawkins\", '']\n",
      "[' West Side Story', '(1961)', '1961 winner', ' 7.6', '', 'Natalie Wood, George Chakiris, Richard Beymer, Russ Tamblyn', '']\n",
      "[' The Apartment', '(1960)', '1960 winner', ' 8.3', '', 'Jack Lemmon, Shirley MacLaine, Fred MacMurray, Ray Walston', '']\n",
      "[' Ben-Hur', '(1959)', '1959 winner', ' 8.1', '', 'Charlton Heston, Jack Hawkins, Stephen Boyd, Haya Harareet', '']\n",
      "[' Gigi', '(1958)', '1958 winner', ' 6.8', '', 'Leslie Caron, Maurice Chevalier, Louis Jourdan, Hermione Gingold', '']\n",
      "[' The Bridge on the River Kwai', '(1957)', '1957 winner', ' 8.2', '', 'William Holden, Alec Guinness, Jack Hawkins, Sessue Hayakawa', '']\n",
      "[' Around the World in 80 Days', '(1956)', '1956 winner', ' 6.8', '', 'David Niven, Cantinflas, Shirley MacLaine, Robert Newton', '']\n",
      "[' Marty', '(1955)', '1955 winner', ' 7.7', '', 'Ernest Borgnine, Betsy Blair, Esther Minciotti, Augusta Ciolli', '']\n",
      "[' On the Waterfront', '(1954)', '1954 winner', ' 8.2', '', 'Marlon Brando, Karl Malden, Lee J. Cobb, Rod Steiger', '']\n",
      "[' From Here to Eternity', '(1953)', '1953 winner', ' 7.7', '', 'Burt Lancaster, Montgomery Clift, Deborah Kerr, Donna Reed', '']\n",
      "[' The Greatest Show on Earth', '(1952)', '1952 winner', ' 6.7', '', 'James Stewart, Charlton Heston, Betty Hutton, Cornel Wilde', '']\n",
      "[' An American in Paris', '(1951)', '1951 winner', ' 7.2', '', 'Gene Kelly, Leslie Caron, Oscar Levant, Georges Guétary', '']\n",
      "[' All About Eve', '(1950)', '1950 winner', ' 8.3', '', 'Bette Davis, Anne Baxter, George Sanders, Celeste Holm', '']\n",
      "[\" All the King's Men\", '(1949)', '1949 winner', ' 7.5', '', 'Broderick Crawford, John Ireland, Joanne Dru, John Derek', '']\n",
      "[' Hamlet', '(1948)', '1948 winner', ' 7.8', '', 'Laurence Olivier, Jean Simmons, John Laurie, Esmond Knight', '']\n",
      "[\" Gentleman's Agreement\", '(1947)', '1947 winner', ' 7.4', '', 'Gregory Peck, Dorothy McGuire, John Garfield, Celeste Holm', '']\n",
      "[' The Best Years of Our Lives', '(1946)', '1946 winner', ' 8.1', '', 'Myrna Loy, Dana Andrews, Fredric March, Teresa Wright', '']\n",
      "[' The Lost Weekend', '(1945)', '1945 winner', ' 8.0', '', 'Ray Milland, Jane Wyman, Phillip Terry, Howard Da Silva', '']\n",
      "[' Going My Way', '(1944)', '1944 winner', ' 7.2', '', 'Bing Crosby, Barry Fitzgerald, Frank McHugh, James Brown', '']\n",
      "[' Casablanca', '(1942)', '1943 winner', ' 8.5', '', 'Humphrey Bogart, Ingrid Bergman, Paul Henreid, Claude Rains', '']\n",
      "[' Mrs. Miniver', '(1942)', '1942 winner', ' 7.6', '', 'Greer Garson, Walter Pidgeon, Teresa Wright, May Whitty', '']\n",
      "[' How Green Was My Valley', '(1941)', '1941 winner', ' 7.8', '', \"Walter Pidgeon, Maureen O'Hara, Anna Lee, Donald Crisp\", '']\n",
      "[' Rebecca', '(1940)', '1940 winner', ' 8.1', '', 'Laurence Olivier, Joan Fontaine, George Sanders, Judith Anderson', '']\n",
      "[' Gone with the Wind', '(1939)', '1939 winner', ' 8.2', '', \"Clark Gable, Vivien Leigh, Thomas Mitchell, Barbara O'Neil\", '']\n",
      "[\" You Can't Take It with You\", '(1938)', '1938 winner', ' 8.0', '', 'Jean Arthur, James Stewart, Lionel Barrymore, Edward Arnold', '']\n",
      "[' The Life of Emile Zola', '(1937)', '1937 winner', ' 7.3', '', 'Paul Muni, Gale Sondergaard, Joseph Schildkraut, Gloria Holden', '']\n",
      "[' The Great Ziegfeld', '(1936)', '1936 winner', ' 6.8', '', 'William Powell, Myrna Loy, Luise Rainer, Frank Morgan', '']\n",
      "[' Mutiny on the Bounty', '(1935)', '1935 winner', ' 7.8', '', 'Charles Laughton, Clark Gable, Franchot Tone, Herbert Mundin', '']\n",
      "[' It Happened One Night', '(1934)', '1934 winner', ' 8.1', '', 'Clark Gable, Claudette Colbert, Walter Connolly, Roscoe Karns', '']\n",
      "[' Cavalcade', '(1933)', '1932-1933 winner', ' 6.0', '', \"Diana Wynyard, Clive Brook, Una O'Connor, Herbert Mundin\", '']\n",
      "[' Grand Hotel', '(1932)', '1931-1932 winner', ' 7.5', '', 'Greta Garbo, John Barrymore, Joan Crawford, Wallace Beery', '']\n",
      "[' Cimarron', '(1931)', '1930-1931 winner', ' 6.0', '', \"Richard Dix, Irene Dunne, Estelle Taylor, Nance O'Neil\", '']\n",
      "[' All Quiet on the Western Front', '(1930)', '1929-1930 winner', ' 8.1', '', 'Lew Ayres, Louis Wolheim, John Wray, Arnold Lucy', '']\n",
      "[' The Broadway Melody', '(1929)', '1928-1929 winner', ' 6.2', '', 'Bessie Love, Anita Page, Charles King, The Angeles Twins', '']\n",
      "[' Wings', '(1927)', '1927-1928 winner', ' 7.7', '', \"Clara Bow, Charles 'Buddy' Rogers, Richard Arlen, Jobyna Ralston\", '']\n",
      "[' Sunrise: A Song of Two Humans', '(1927)', '1927-1928 winner', ' 8.2', '', \"George O'Brien, Janet Gaynor, Margaret Livingston, Bodil Rosing\", '']\n"
     ]
    }
   ],
   "source": [
    "movie = []\n",
    "lord = []\n",
    "for c in shot:\n",
    "    if len(c.text) > 0:\n",
    "        lord = c.text.split(\"\\n\")\n",
    "        for i in lord:\n",
    "            if i == \"\":\n",
    "                lord.remove(i)\n",
    "        print(lord)\n",
    "        if len(lord) == 7:\n",
    "            title, yearrel, yearwin, rating, idk, ma, sorry = lord\n",
    "            lmao = title, yearwin, rating\n",
    "            yearwin = yearwin[0:4]\n",
    "            rating = rating[1:2]\n",
    "        if str.isdigit(yearwin):\n",
    "            movie += [[title, int(yearwin), float(rating)]]\n",
    "    else:\n",
    "        movie += [0]    "
   ]
  },
  {
   "cell_type": "code",
   "execution_count": 313,
   "metadata": {},
   "outputs": [
    {
     "data": {
      "text/html": [
       "<div>\n",
       "<style scoped>\n",
       "    .dataframe tbody tr th:only-of-type {\n",
       "        vertical-align: middle;\n",
       "    }\n",
       "\n",
       "    .dataframe tbody tr th {\n",
       "        vertical-align: top;\n",
       "    }\n",
       "\n",
       "    .dataframe thead th {\n",
       "        text-align: right;\n",
       "    }\n",
       "</style>\n",
       "<table border=\"1\" class=\"dataframe\">\n",
       "  <thead>\n",
       "    <tr style=\"text-align: right;\">\n",
       "      <th></th>\n",
       "      <th>0</th>\n",
       "      <th>1</th>\n",
       "      <th>2</th>\n",
       "    </tr>\n",
       "  </thead>\n",
       "  <tbody>\n",
       "    <tr>\n",
       "      <th>0</th>\n",
       "      <td>Green Book</td>\n",
       "      <td>2018</td>\n",
       "      <td>8.0</td>\n",
       "    </tr>\n",
       "    <tr>\n",
       "      <th>1</th>\n",
       "      <td>The Shape of Water</td>\n",
       "      <td>2017</td>\n",
       "      <td>7.0</td>\n",
       "    </tr>\n",
       "    <tr>\n",
       "      <th>2</th>\n",
       "      <td>Moonlight</td>\n",
       "      <td>2016</td>\n",
       "      <td>7.0</td>\n",
       "    </tr>\n",
       "    <tr>\n",
       "      <th>3</th>\n",
       "      <td>Spotlight</td>\n",
       "      <td>2015</td>\n",
       "      <td>8.0</td>\n",
       "    </tr>\n",
       "    <tr>\n",
       "      <th>4</th>\n",
       "      <td>Birdman or (The Unexpected Virtue of Ignorance)</td>\n",
       "      <td>2014</td>\n",
       "      <td>7.0</td>\n",
       "    </tr>\n",
       "    <tr>\n",
       "      <th>5</th>\n",
       "      <td>12 Years a Slave</td>\n",
       "      <td>2013</td>\n",
       "      <td>8.0</td>\n",
       "    </tr>\n",
       "    <tr>\n",
       "      <th>6</th>\n",
       "      <td>Argo</td>\n",
       "      <td>2012</td>\n",
       "      <td>7.0</td>\n",
       "    </tr>\n",
       "    <tr>\n",
       "      <th>7</th>\n",
       "      <td>The Artist</td>\n",
       "      <td>2011</td>\n",
       "      <td>7.0</td>\n",
       "    </tr>\n",
       "    <tr>\n",
       "      <th>8</th>\n",
       "      <td>The King's Speech</td>\n",
       "      <td>2010</td>\n",
       "      <td>8.0</td>\n",
       "    </tr>\n",
       "    <tr>\n",
       "      <th>9</th>\n",
       "      <td>The Hurt Locker</td>\n",
       "      <td>2009</td>\n",
       "      <td>7.0</td>\n",
       "    </tr>\n",
       "  </tbody>\n",
       "</table>\n",
       "</div>"
      ],
      "text/plain": [
       "                                                  0     1    2\n",
       "0                                        Green Book  2018  8.0\n",
       "1                                The Shape of Water  2017  7.0\n",
       "2                                         Moonlight  2016  7.0\n",
       "3                                         Spotlight  2015  8.0\n",
       "4   Birdman or (The Unexpected Virtue of Ignorance)  2014  7.0\n",
       "5                                  12 Years a Slave  2013  8.0\n",
       "6                                              Argo  2012  7.0\n",
       "7                                        The Artist  2011  7.0\n",
       "8                                 The King's Speech  2010  8.0\n",
       "9                                   The Hurt Locker  2009  7.0"
      ]
     },
     "execution_count": 313,
     "metadata": {},
     "output_type": "execute_result"
    }
   ],
   "source": [
    "movie = pd.DataFrame(movie)\n",
    "movie = movie.head(10)\n",
    "movie"
   ]
  },
  {
   "cell_type": "code",
   "execution_count": 314,
   "metadata": {},
   "outputs": [
    {
     "data": {
      "text/plain": [
       "<function matplotlib.pyplot.show>"
      ]
     },
     "execution_count": 314,
     "metadata": {},
     "output_type": "execute_result"
    },
    {
     "data": {
      "image/png": "[encoded data removed]",
      "text/plain": [
       "<matplotlib.figure.Figure at 0x1147eee10>"
      ]
     },
     "metadata": {},
     "output_type": "display_data"
    }
   ],
   "source": [
    "x = movie[1]\n",
    "y = movie[2]\n",
    "fig = plt.gcf()\n",
    "fig.set_size_inches(20,3)\n",
    "plt.plot(x,y, color='r', marker = \"*\", ms = 10, ls = \"\")\n",
    "\n",
    "plt.xlabel(\"Year\")\n",
    "plt.ylabel(\"Stars\")\n",
    "plt.title(\"ImDB Ratings of Academy Award-Winning Films\")\n",
    "\n",
    "labels = movie[0]\n",
    "for i in movie.index:\n",
    "    if x[i]%2 == 0:\n",
    "        dx = 0\n",
    "        dy = -0.8\n",
    "    else:\n",
    "        dx = 0\n",
    "        dy = 0.8\n",
    "    plt.text(x[i]+dx, y[i]+dy, labels[i], horizontalalignment = \"center\", verticalalignment = \"center\")\n",
    "        \n",
    "\n",
    "plt.ylim(0,10)\n",
    "plt.xticks(movie[1])\n",
    "plt.xlim(2008.5,2018.5)\n",
    "plt.show"
   ]
  }
 ],
 "metadata": {
  "kernelspec": {
   "display_name": "Python 3",
   "language": "python",
   "name": "python3"
  },
  "language_info": {
   "codemirror_mode": {
    "name": "ipython",
    "version": 3
   },
   "file_extension": ".py",
   "mimetype": "text/x-python",
   "name": "python",
   "nbconvert_exporter": "python",
   "pygments_lexer": "ipython3",
   "version": "3.6.4"
  }
 },
 "nbformat": 4,
 "nbformat_minor": 2
}
